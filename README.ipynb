{
 "cells": [
  {
   "cell_type": "markdown",
   "id": "c20cc7d6-2b1b-47fb-a9b9-f876546ab6cf",
   "metadata": {},
   "source": [
    "# hcde-410-final\n",
    "\n",
    "## Motivation and problem statement\n",
    "\n",
    "My aim is to investigate the issue of allergies among children and identify potential causes. To achieve this, I plan to analyze demographic data, which will enable us to understand the origin and prevalence of allergens across different countries. In addition, if time allows, I will explore food data from various countries to examine any correlation between food intake and allergy rates. This research has the potential to benefit scientists developing new food products, government agencies involved with the FDA, and families with newborns looking to prevent allergies. Ultimately, the insights gained from this study may prove critical in addressing the growing problem of allergies among children.\n",
    "\n",
    "\n",
    "## Data selected for analysis\n",
    "\n",
    "The dataset I have selected is a comprehensive collection of children with allergies, providing demographic information as well as prevalence rates. Using this data, my goal is to perform a detailed analysis of specific allergens and their correlation with ethnicity and location. At present, I plan to exclusively utilize this dataset, but I hope to expand my research to include information about food imports per country, enabling me to explore potential links between food intake and allergen prevalence rates. This dataset satisfies all of the criteria that I previously outlined regarding demographics and specific allergens. However, it's worth noting that acquiring this information may involve obtaining data from families or clinics, which could raise ethical considerations. Additionally, the dataset lacks information about how the data was collected, which may impact the validity of the findings.\n",
    "\n",
    "The link to the dataset can be found here: https://www.kaggle.com/datasets/thedevastator/childhood-allergies-prevalence-diagnosis-and-tre?resource=download\n",
    "\n",
    "This dataset is licensed as a public domain, details about public domains can be viewed here: https://creativecommons.org/publicdomain/zero/1.0/ \n",
    "\n",
    "## Unknowns and dependencies: \n",
    "\n",
    "Completing the analysis of the selected dataset should be feasible by the end of this quarter. However, the task of gathering and analyzing data on food intake by region may prove to be more challenging and require additional time. This is particularly true if I intend to compare the two datasets to identify any correlations. \n",
    "\n",
    "\n",
    "## Research Questions\n",
    "\n",
    "In this study, we aim to investigate the issue of allergies among children and identify potential causes by analyzing demographic and food data. To guide our analysis, we have developed a set of research questions that will help us better understand the prevalence and causes of allergies among children. By answering these questions, we hope to provide insights that can inform the development of new food products and preventative measures for families with newborns.\n",
    "\n",
    "~RQ: What is the prevalence of allergies among children in different countries, and how does it vary by demographic factors such as age, gender, ethnicity, and location?~\n",
    "\n",
    "~H: America has a high rate of allergies, possibly due to limited exposure to certain foods and contamination during US processing.~\n",
    "\n",
    "_Deleted as another research question below answers a different question, along with the some demographic information. I figured that if one research question could answer more, my report could be more efficient to read_\n",
    "\n",
    "\n",
    "RQ: What are the most common allergens affecting children, ~and how do they differ across countries?~ and how do they differ among races?\n",
    "\n",
    "H: In America, peanuts are the most common allergen, possibly due to frequent consumption in processed foods.\n",
    "\n",
    "_Added the races part instead of countries as that is what the data provides_ \n",
    "\n",
    "\n",
    "~RQ: How does the prevalence of allergies among children compare to previous years, and~ what factors may be contributing to any changes in allergy rates?\n",
    "\n",
    "H: There appears to be an increase in allergies in recent years, possibly due to a rise in diets that avoid common allergens.\n",
    "\n",
    "_Deleted information from previous years as it would require me to attain more data and that is out of the scope of my time. I figured I could keep the factors part by continueing my plan to read forums and articles._ \n",
    "\n",
    "\n",
    "~RQ: Are there any significant differences in the prevalence of allergies among children from rural and urban areas, and if so, what are the potential causes of these differences?~\n",
    "\n",
    "~H: Children from urban areas may have higher exposure to certain foods, making them less susceptible to allergens than those from rural areas.~\n",
    "\n",
    "_Deleted this part as this question is also out of the scope of the data I atttained_ \n",
    "\n",
    "As you can see in my _italicized_ writings, many of my research questions have been edited or redacted. This is a response to me continually working on my project and realizing that some data may be more useful than others, and some data may not be as attainable than others. \n",
    "\n",
    "## Related work\n",
    "\n",
    "https://www.ncbi.nlm.nih.gov/pmc/articles/PMC6021584/\n",
    "Summary: Food allergy prevalence and patterns vary worldwide due to genetics, environment, migration, climate, and feeding practices. This suggests that food allergy mechanisms differ globally. Diagnosis, treatment, and prevention should be customized to each population. Research should focus on identifying factors that cause differential responses between populations.\n",
    "\n",
    "https://www.ncbi.nlm.nih.gov/pmc/articles/PMC6163515/\n",
    "Summary: \n",
    "Despite the lack of high-quality evidence, studies show that food allergy prevalence is increasing worldwide. The prevalence is higher among younger children and in children of East Asian or African descent born in a Western environment. Cow's milk and egg allergy are common, but patterns of food allergy vary by region. More research is needed, especially in Asia and developing countries, to better understand and prevent the increasing prevalence of food allergies.\n",
    "\n",
    "https://foodinsight.org/food-allergies-across-the-globe/\n",
    "Summary: The article provides a brief overview of food allergies globally, stating that the prevalence and types of food allergies vary across countries and cultures. It also discusses the challenges in diagnosing and managing food allergies and highlights the need for increased awareness and education about food allergies.\n",
    "\n",
    "How this will change my aproach: \n",
    "\n",
    "Overall, coming in with this information will answer a lot of my \"why\" questions. I plan to combine the data I have into various visualizations and with that, the research above, as well as more in the future, can provide reason into why the trends show as they are. Of course I cannot only rely on those three sources, but they are good anchor points into diving deeper in allergens. \n",
    "\n",
    "## Methodology\n",
    "\n",
    "\n",
    "1.) I plan to input my data in Tableau and google sheets\n",
    "2.) Add data points to the graph and continue to play around with the different visualizations until I find something that can pertain to a specific research question\n",
    "3.) Graphs I plan to make if possible: Line graphs to show trends, maps to show abundance and count, bar charts to compare countries allergens, Tree maps also to show abundance\n",
    "4.) After making these static visualizations, I also plan to make some interactive ones as some of my questions have to to with time \n",
    "5.) I then plan on diving into further research to see if I can explain the whys of the data. \n",
    "\n",
    "\n",
    "### Data Cleaning\n",
    "\n",
    "In the data cleaning process, I used google sheets. I manually did some of it and also used code to clear out more. Manually, I made many duplicates of the data and calculated counts for specific sections using"
   ]
  },
  {
   "cell_type": "raw",
   "id": "2a9ff88f-302c-47c9-9c56-a1289834b8cc",
   "metadata": {},
   "source": [
    "=COUNT(D:D)"
   ]
  },
  {
   "cell_type": "markdown",
   "id": "d59f3c93-11e1-4530-9296-b91d53632fde",
   "metadata": {},
   "source": [
    "With median counts, I used "
   ]
  },
  {
   "cell_type": "raw",
   "id": "d8c47564-f7c5-4cc2-bb33-6ee09f8ee365",
   "metadata": {},
   "source": [
    "=MEDIAN(E:E)"
   ]
  },
  {
   "cell_type": "markdown",
   "id": "9a576a66-595a-459a-a64d-9fa4eab3c9df",
   "metadata": {},
   "source": [
    "\n",
    "When it came to calcualting only specific sections, I had to clear out data from other rows. I did so by first asking ChatGPT for a base code, and then altering it so it can fit my sheets. "
   ]
  },
  {
   "cell_type": "raw",
   "id": "87031b55-25bb-407f-a9fa-bb1201ccd68a",
   "metadata": {},
   "source": [
    "ChatGPT code:\n",
    "function clearRows() {\n",
    "  var sheet = SpreadsheetApp.getActiveSpreadsheet().getActiveSheet();\n",
    "  var data = sheet.getDataRange().getValues();\n",
    "  var numRows = sheet.getLastRow();\n",
    "  var valueToCheck = \"specific value\"; // Replace \"specific value\" with the value you want to match in column A\n",
    "\n",
    "  for (var i = numRows; i >= 2; i--) {\n",
    "    if (data[i - 1][0] == valueToCheck) { // Assuming the column A is at index 0\n",
    "      sheet.getRange(i, 1, 1, sheet.getLastColumn()).clearContent();\n",
    "    }\n",
    "  }\n",
    "}\n"
   ]
  },
  {
   "cell_type": "raw",
   "id": "d61f58c9-597d-4423-af8f-88d0662ef78c",
   "metadata": {},
   "source": [
    "My edited code: \n",
    "function clearRows() {\n",
    "  var sheet = SpreadsheetApp.getActiveSpreadsheet().getActiveSheet();\n",
    "  var data = sheet.getDataRange().getValues();\n",
    "  var numRows = sheet.getLastRow();\n",
    "  var valueToCheck = 1; // Replace \"specific value\" with the value you want to match in column A\n",
    "\n",
    "  for (var column = 26; column >= 3; column--){\n",
    "    for (var i = numRows; i >= 2; i--) {\n",
    "      if (data[i - 1][column] >= valueToCheck) { // Assuming the column A is at index 0\n",
    "        sheet.getRange(i, 1, 1, sheet.getLastColumn()).clearContent();\n",
    "      }\n",
    "    }\n",
    "  }\n",
    "}"
   ]
  },
  {
   "cell_type": "markdown",
   "id": "f9c06746-d291-4c66-a966-d547334ae7f6",
   "metadata": {},
   "source": [
    "In my edited code, I made sure to encompass all the sections I wanted to clear out. I also created a for loop so that I wouldn't have to run the code over and over again. I used this to help isolate information. \n",
    "\n",
    "### Making the graphs\n",
    "\n",
    "At first, I was going to import everything into Tableau as I have experience with it and would be able to learn more. Unfortanetly as I was doing so, my computer kept crashing and I was not able to find a way to fix it. In order to make sure this project was done without losing data sporatically, I had to use Google Sheets to continue. Although the graphs are nor interactive, I am still satisfied with the data I was able to visualize. \n",
    "\n",
    "Google sheets was reliable and intuitive to use. Whenever I had a question, I would prompt CHatGPT with my questions. The prompts I used is listed below. \n",
    "\n",
    "- \"How to clear a row of a column contains a value on google sheets\" \n",
    "\n",
    "### Finding further information past graphs \n",
    "\n",
    "I expanded my research beyond data points to include forums and research papers to provide a comprehensive explanation of the collected data. Initially, I considered searching on Reddit, which yielded useful insights but lacked the seriousness and centralization I sought from a parental perspective. However, I discovered other forums specifically tailored to parents dealing with allergies in children. Additionally, I utilized Google Scholar to access legitimate research papers on allergens in children. While I briefly contemplated using the WayBack machine, prioritizing more recent information proved more beneficial.\n",
    "\n",
    "##### Chat GPT \n",
    "When finding more information, I was met with many different results all ranging from a variety of backgrounds. I used chatGPT to summarize the results so I could narrow down my research with less time. I used the prompt: \n",
    "\n",
    "- \"why has there been an increase in allergies among kids? Narrow down the results to their main ideas\" \n",
    "\n",
    "Since ChatGPT uses information up to 2019, I then took it upon myself to find more recent information. \n",
    "\n",
    "### Presenting the Information\n",
    "\n",
    "My idea to present the information is to present it in a story telling way. The research questions I made serve as baseline questions, and instead of presenting each finding 1 to 1 with the questions, it is presented as more of a storyline. \n",
    "\n",
    "I plan to start broad, and then narrow in on findings and get details as I go on. I hope to present it in  a way that it is easy to read and does not require too much brain power. But I also want to make sure I don't over explain to give veiwers a chance to form their own opinions. "
   ]
  },
  {
   "cell_type": "markdown",
   "id": "871cb9ac-1c4e-40d0-8bd6-18e71d506d3a",
   "metadata": {
    "tags": []
   },
   "source": [
    "## Findings\n",
    "\n",
    "Using this data, let's take a look at all the information given to us. \n",
    "![Graph of Allergens vs. Kids with allergies](Images/G1.png \"Allergens vs. Kids with Allergies\")\n",
    "\n",
    "In some cases, kids can overcome their allergies. This graph shows the allergies that kids were able to overcome. \n",
    "![Graph of Allergens vs. Count of kids who overcame the allergy](Images/G2.png \"Allergens vs. Count of kids who overcame the allergy\")\n",
    "\n",
    "Now that we have the general information, we can zoom into more demographics. Looks like Black kids have the highest count of allergies. The data I found does not state where or how this information was attained, so I went to outside sources to check for biases or if this data was attained in a black-dominated area. This link (https://www.ncbi.nlm.nih.gov/pmc/articles/PMC4888051/) is a study on racial disparities and health and disease states that \"African American/Black individuals tend to be sensitized more frequently than White individuals.\" \n",
    "![Count of babies with allergies](Images/G3.png \"Race vs. Count of kids with allergens\")\n",
    "\n",
    "Does sex have a factor in allergies? Looks like there is a slightly larger count for males, but for a sample size this big, the comparison between male and female is not significant enough to make a strong conclusion. \n",
    "![Sex vs. Allergies](Images/G4.png \"Sex vs. Allergies\")\n"
   ]
  },
  {
   "cell_type": "markdown",
   "id": "56e72381-0376-4ca5-bd1a-fffae797ef8b",
   "metadata": {},
   "source": [
    "With the previous graphs, we have gained the knowledge that: \n",
    "- Peanut allergies is the leading allergen among kids, but the percentage to overcome it is lower than other allergies at 25%\n",
    "- Egg allergies have the highest rate of being overcome with 58.8%\n",
    "- Black kids are more sensitized to allergens \n",
    "- Sex does not play a significent role in allergies \n",
    "\n",
    "\n",
    "### Further Research \n",
    "\n",
    "The data itself is useful, however, it would be more useful to learn the why's to these data points and dig a little deeper. \n",
    "\n",
    "#### Peanut allergies \n",
    "This website: https://www.peanutallergy.com/peanut-allergy includes information as well as a forum section for parents to learn more about peanut allergies. Overall, parents seem to be very new peanut allergies, something I want to explore further. The site informs parents about what to watch out for. It also validates the data we found above by saying that about 25% of kids overcome their peanut allergies. The site further goes on to explain how to prevent the return of the allergy by contually exposing your kid to peanuts so their body gets used to it. \n",
    "\n",
    "#### Overcoming an Egg allergy \n",
    "This study (https://www.nih.gov/news-events/nih-research-matters/hope-beating-egg-allergy) also backs up the findings that microdosing kids with their allergies helps prevent the return of their allergy. This particular website speaks on eggs. It also writes about how exposing a child to small amounts of egg and increasing the amount slightly will lead to the symptoms going away. However, this only works if the child is continually exposed to their allergen. When given 10-14 days without being exposed to eggs, most of the kids experienced allergy attacks or symptoms after ingesting eggs again. \n",
    "\n",
    "#### Black individuals and allergies \n",
    "In this study (https://www.ncbi.nlm.nih.gov/pmc/articles/PMC4888051/) researchers confirmed that allergies were more common within black individuals. The findings however, did not include why. It only suggested that the allergies did not come from genetics, but might come from their social economical status. In the conclusion, it also expresses that there is not further research done about this topic. I also tried to search more about the why, but was unable to find any further information. \n",
    "\n",
    "#### Why is there an increase of allergies? \n",
    "\n",
    "##### Hygiene hypothesis [link](https://www.hopkinsmedicine.org/news/media/releases/newborns_exposed_to_dirt_dander_and_germs_may_have_lower_allergy_and_asthma_risk)\n",
    "\n",
    "The Hygiene Hypothesis states that kids who are more exposed to dirt and outside \"dirty\" factors have a lower risk in allergies. Lately, parents have been hyperaware about making sure everything is clean for their kids as they are afraid of their kids contracting some viral disease and not being able to fight it at their age. This can cause parents and guardians to keep everything their kid touches extra clean, resulting in their kids to have lower immune systems. \n",
    "\n",
    "##### Dietary changes [link](https://www.ncbi.nlm.nih.gov/pmc/articles/PMC9134150/)\n",
    "\n",
    "The dietary hypothesis states that changes in diet, including increased consumption of processed foods, fewer fruits and vegetables, and alterations in breastfeeding patterns, have been suggested as potential factors contributing to the increase in allergies.\n"
   ]
  },
  {
   "cell_type": "markdown",
   "id": "77c59886-e2d4-41b9-bd27-e408d6749159",
   "metadata": {},
   "source": [
    "## Discussion (including Limitations and Implications)\n",
    "\n",
    "##### Limitations:\n",
    "\n",
    "Although this project achieved success, it was not without its limitations. Firstly, the reliance on forums and additional research introduced certain constraints. Achieving the best results necessitated immersing myself fully in the mindset of a parent. As someone who does not have children, it is evident that I lack the complete understanding and perspective of a parent. Moreover, parents typically have the advantage of being able to consult others in the same life stage for guidance and support. As discussed previously in our class, our browsers are tailored to our individual search histories, and mine does not reflect the browsing habits of a parent with children who have allergies. As someone without parent friends, my sole resource is the internet, which may yield varying results influenced by my browsing history. Additionally, as mentioned earlier, a limitation was encountered with Tableau as it repeatedly crashed on my computer, impeding the initial research I had planned. However, I managed to employ Google's script extension for data cleaning methods and further analysis, effectively compensating for the absence of Tableau.\n",
    "\n",
    "##### Implications:\n",
    "\n",
    "The fundamental objective of this research was to aid new parents in understanding what to expect and how to prepare for raising a child with allergies. It is important to note that the purpose was not to dictate what parents should do but to provide them with valuable data as a foundation for decision-making. From a parent's perspective, the implications of the data and research collected suggest that parents should feel comfortable exposing their children to the environment and introducing them to a wide variety of foods, both natural and artificial. Furthermore, it implies that there may be a higher likelihood of allergies among Black children.\n",
    "\n",
    "##### Further research:\n",
    "\n",
    "Future research endeavors could delve into the reasons behind the heightened sensitivity to allergies among Black children. To the best of my knowledge, this specific research has not been conducted publicly yet. Additionally, it would be valuable to explore any potential correlations between allergens and race. Ideally, Tableau would be the preferred tool for such investigations, assuming it becomes operational again in the future."
   ]
  },
  {
   "cell_type": "markdown",
   "id": "474c4461-f731-4990-b7be-cbf1cd36a9b6",
   "metadata": {},
   "source": [
    "## Conclusion\n",
    "In conclusion, the data gathered in this study provides valuable insights into the landscape of allergies among children. Some key findings include peanut allergy being the most prevalent food allergy, with a noteworthy 25% of children overcoming it. Additionally, egg allergies exhibit the highest percentage of children overcoming the allergy. It is crucial to note that once an allergy has been overcome, consistent exposure is advised to prevent its return. Surprisingly, Black children have the highest prevalence of allergies, and although the exact reasons remain unknown, it is likely unrelated to genetics. Moreover, the study reveals that gender does not significantly impact allergy rates. The rise in allergies can be attributed to various theories, including hyper-clean parenting practices and the increased consumption of artificial foods. These findings contribute to our understanding of childhood allergies and emphasize the importance of further research to explore the underlying factors and potential interventions in addressing this growing concern."
   ]
  },
  {
   "cell_type": "markdown",
   "id": "de3616ed-a9fa-4ae1-bdb4-93e0b1446ea5",
   "metadata": {},
   "source": [
    "** some of these paragraphs were edited and revised through Chat GPT"
   ]
  }
 ],
 "metadata": {
  "kernelspec": {
   "display_name": "Python 3 (ipykernel)",
   "language": "python",
   "name": "python3"
  },
  "language_info": {
   "codemirror_mode": {
    "name": "ipython",
    "version": 3
   },
   "file_extension": ".py",
   "mimetype": "text/x-python",
   "name": "python",
   "nbconvert_exporter": "python",
   "pygments_lexer": "ipython3",
   "version": "3.9.7"
  }
 },
 "nbformat": 4,
 "nbformat_minor": 5
}
